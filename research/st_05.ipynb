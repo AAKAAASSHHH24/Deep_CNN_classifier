{
 "cells": [
  {
   "cell_type": "code",
   "execution_count": 1,
   "metadata": {},
   "outputs": [],
   "source": [
    "import tensorflow as tf"
   ]
  },
  {
   "cell_type": "code",
   "execution_count": 2,
   "metadata": {},
   "outputs": [],
   "source": [
    "import os\n",
    "os.chdir(\"../\")"
   ]
  },
  {
   "cell_type": "code",
   "execution_count": 5,
   "metadata": {},
   "outputs": [
    {
     "name": "stdout",
     "output_type": "stream",
     "text": [
      " Volume in drive E is New Volume\n",
      " Volume Serial Number is D2C1-552A\n",
      "\n",
      " Directory of e:\\STUDIES\\data_science\\ML\\Deep_Learning\\Deep_CNN_classifier\n",
      "\n",
      "21-Sep-22  03:56 PM    <DIR>          .\n",
      "27-Sep-22  12:26 PM    <DIR>          ..\n",
      "21-Sep-22  03:10 PM    <DIR>          .dvc\n",
      "21-Sep-22  02:44 PM               142 .dvcignore\n",
      "12-Sep-22  12:26 PM    <DIR>          .github\n",
      "21-Sep-22  02:10 PM             2,503 .gitignore\n",
      "18-Sep-22  10:17 PM    <DIR>          .mypy_cache\n",
      "22-Sep-22  10:15 PM    <DIR>          .pytest_cache\n",
      "19-Sep-22  01:48 AM    <DIR>          .tox\n",
      "19-Sep-22  12:31 AM    <DIR>          .vscode\n",
      "25-Sep-22  02:37 AM    <DIR>          artifacts\n",
      "12-Sep-22  12:26 PM    <DIR>          configs\n",
      "17-Sep-22  04:33 PM    <DIR>          docs\n",
      "25-Sep-22  02:37 AM             1,185 dvc.lock\n",
      "25-Sep-22  02:32 AM             1,460 dvc.yaml\n",
      "18-Sep-22  04:36 PM    <DIR>          env\n",
      "12-Sep-22  05:00 PM               300 init_setup.sh\n",
      "12-Sep-22  04:04 AM             1,097 LICENSE\n",
      "13-Sep-22  09:20 PM    <DIR>          logs\n",
      "26-Sep-22  11:11 PM               166 params.yaml\n",
      "22-Sep-22  01:54 PM               226 pyproject.toml\n",
      "18-Sep-22  02:05 AM               808 README.md\n",
      "20-Sep-22  05:44 PM               146 requirements.txt\n",
      "20-Sep-22  05:44 PM               238 requirements_dev.txt\n",
      "27-Sep-22  03:45 PM    <DIR>          research\n",
      "12-Sep-22  01:24 PM               470 setup.cfg\n",
      "12-Sep-22  01:21 PM               803 setup.py\n",
      "12-Sep-22  05:08 PM    <DIR>          src\n",
      "22-Sep-22  02:40 PM             2,403 template.py\n",
      "19-Sep-22  01:41 AM    <DIR>          tests\n",
      "12-Sep-22  04:42 PM               593 tox.ini\n",
      "              15 File(s)         12,540 bytes\n",
      "              16 Dir(s)  123,226,537,984 bytes free\n"
     ]
    }
   ],
   "source": [
    "ls"
   ]
  },
  {
   "cell_type": "code",
   "execution_count": 7,
   "metadata": {},
   "outputs": [],
   "source": [
    "model = tf.keras.models.load_model(\"artifacts/training/model.h5\")"
   ]
  },
  {
   "cell_type": "code",
   "execution_count": 8,
   "metadata": {},
   "outputs": [],
   "source": [
    "from dataclasses import dataclass\n",
    "from pathlib import Path\n",
    "\n",
    "@dataclass(frozen=True)\n",
    "class EvaluationConfig:\n",
    "    path_of_model: Path\n",
    "    training_data: Path\n",
    "    params_image_size: list\n",
    "    params_batch_size: int"
   ]
  },
  {
   "cell_type": "code",
   "execution_count": 10,
   "metadata": {},
   "outputs": [],
   "source": [
    "from deepClassifier.constants import *\n",
    "from deepClassifier.utils import read_yaml, create_directories, save_json\n",
    "\n",
    "class ConfigurationManager:\n",
    "    def __init__(\n",
    "        self, \n",
    "        config_filepath = CONFIG_FILE_PATH,\n",
    "        params_filepath = PARAMS_FILE_PATH):\n",
    "        self.config = read_yaml(config_filepath)\n",
    "        self.params = read_yaml(params_filepath)\n",
    "        create_directories([self.config.artifacts_root])\n",
    "\n",
    "    def get_validation_config(self) -> EvaluationConfig:\n",
    "        eval_config = EvaluationConfig(\n",
    "            path_of_model=\"artifacts/training/model.h5\",\n",
    "            training_data=\"artifacts/data_ingestion/PetImages\",\n",
    "            params_image_size=self.params.IMAGE_SIZE,\n",
    "            params_batch_size=self.params.BATCH_SIZE\n",
    "        )\n",
    "        return eval_config"
   ]
  },
  {
   "cell_type": "code",
   "execution_count": 11,
   "metadata": {},
   "outputs": [],
   "source": [
    "import tensorflow as tf\n",
    "from pathlib import Path\n",
    "\n",
    "class Evaluation:\n",
    "    def __init__(self, config: EvaluationConfig):\n",
    "        self.config = config\n",
    "\n",
    "    def _valid_generator(self):\n",
    "\n",
    "        datagenerator_kwargs = dict(\n",
    "            rescale = 1./255,\n",
    "            validation_split=0.30\n",
    "        )\n",
    "\n",
    "        dataflow_kwargs = dict(\n",
    "            target_size=self.config.params_image_size[:-1],\n",
    "            batch_size=self.config.params_batch_size,\n",
    "            interpolation=\"bilinear\"\n",
    "        )\n",
    "\n",
    "        valid_datagenerator = tf.keras.preprocessing.image.ImageDataGenerator(\n",
    "            **datagenerator_kwargs\n",
    "        )\n",
    "\n",
    "        self.valid_generator = valid_datagenerator.flow_from_directory(\n",
    "            directory=self.config.training_data,\n",
    "            subset=\"validation\",\n",
    "            shuffle=False,\n",
    "            **dataflow_kwargs\n",
    "        )\n",
    "\n",
    "\n",
    "    @staticmethod\n",
    "    def load_model(path: Path) -> tf.keras.Model:\n",
    "        return tf.keras.models.load_model(path)\n",
    "\n",
    "\n",
    "    def evaluation(self):\n",
    "        model = self.load_model(self.config.path_of_model)\n",
    "        self._valid_generator()\n",
    "        self.score = model.evaluate(self.valid_generator)\n",
    "\n",
    "    def save_score(self):\n",
    "        scores = {\"loss\": self.score[0], \"accuracy\": self.score[1]}\n",
    "        save_json(path=Path(\"scores.json\"), data=scores)"
   ]
  },
  {
   "cell_type": "code",
   "execution_count": 12,
   "metadata": {},
   "outputs": [
    {
     "name": "stdout",
     "output_type": "stream",
     "text": [
      "[2022-09-27 20:05:41,603: INFO: common]: yaml file: configs\\config.yaml loaded successfully\n",
      "[2022-09-27 20:05:41,980: INFO: common]: yaml file: params.yaml loaded successfully\n",
      "[2022-09-27 20:05:42,008: INFO: common]: created directory at: artifacts\n",
      "Found 7498 images belonging to 2 classes.\n"
     ]
    },
    {
     "ename": "",
     "evalue": "",
     "output_type": "error",
     "traceback": [
      "\u001b[1;31mCanceled future for execute_request message before replies were done"
     ]
    },
    {
     "ename": "",
     "evalue": "",
     "output_type": "error",
     "traceback": [
      "\u001b[1;31mThe Kernel crashed while executing code in the the current cell or a previous cell. Please review the code in the cell(s) to identify a possible cause of the failure. Click <a href='https://aka.ms/vscodeJupyterKernelCrash'>here</a> for more info. View Jupyter <a href='command:jupyter.viewOutput'>log</a> for further details."
     ]
    }
   ],
   "source": [
    "try:\n",
    "    config = ConfigurationManager()\n",
    "    val_config = config.get_validation_config()\n",
    "    evaluation = Evaluation(val_config)\n",
    "    evaluation.evaluation()\n",
    "    evaluation.save_score()\n",
    "    \n",
    "except Exception as e:\n",
    "   raise e"
   ]
  },
  {
   "cell_type": "code",
   "execution_count": null,
   "metadata": {},
   "outputs": [],
   "source": []
  }
 ],
 "metadata": {
  "kernelspec": {
   "display_name": "Python 3.8.13 (conda)",
   "language": "python",
   "name": "python3"
  },
  "language_info": {
   "codemirror_mode": {
    "name": "ipython",
    "version": 3
   },
   "file_extension": ".py",
   "mimetype": "text/x-python",
   "name": "python",
   "nbconvert_exporter": "python",
   "pygments_lexer": "ipython3",
   "version": "3.8.13"
  },
  "orig_nbformat": 4,
  "vscode": {
   "interpreter": {
    "hash": "79e4317a27277e9db2a8031ee067bd1fd66b84da12882355e6450b3700b854ac"
   }
  }
 },
 "nbformat": 4,
 "nbformat_minor": 2
}
